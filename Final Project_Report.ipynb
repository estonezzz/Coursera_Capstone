{
 "cells": [
  {
   "cell_type": "markdown",
   "metadata": {
    "collapsed": true
   },
   "source": [
    "# Assesment of Geolocation data impact on Housing Prices in King County, WA"
   ]
  },
  {
   "cell_type": "markdown",
   "metadata": {},
   "source": [
    "## 1. Introduction"
   ]
  },
  {
   "cell_type": "markdown",
   "metadata": {},
   "source": [
    "### 1.1. Backgound"
   ]
  },
  {
   "cell_type": "markdown",
   "metadata": {},
   "source": [
    "Housing costs are impacting individuals, families, businesses, and governments weighing over their budgets. The global Housing market is generally moving <br>  in sync with overall economy but its different pieces may grow at different rates. Prices in some geographical locations move much faster than in others. <br> Prices may vary drastically within the same city depending on the neighborhood. The problem of accurate and timely real estate quote is yet to be solved with <br> some online real estate aggregators such as Zillow have been developing proprietary systems that provide automated estimates of housing prices  without <br> the immediate need of professional appraiser. These models utilize the property features i. e. number of bedrooms/bathrooms, square footage and etc as <br> well as location features, i. e. proximity to different venues such as entertainment, education, transport, health care, parks, etc. All available open source <br> datasets contain about the same number of implicit parameters, which are static by nature. Geographic parameters are less standardized and definitely more <br> dynamic. This makes their assessment a more difficult and exciting problem. "
   ]
  },
  {
   "cell_type": "markdown",
   "metadata": {},
   "source": [
    "### 1.2. Business problem"
   ]
  },
  {
   "cell_type": "markdown",
   "metadata": {},
   "source": [
    "The goal of this project to build a predictive model for the housing prices based on the available information for King County, Washington. The impact of <br> geographical location through proximity to various venues to be analyzed, and the question whether the predictive outcome of the model could be improved to <br> be assessed. \n"
   ]
  },
  {
   "cell_type": "code",
   "execution_count": null,
   "metadata": {},
   "outputs": [],
   "source": []
  },
  {
   "cell_type": "markdown",
   "metadata": {},
   "source": [
    "## 2. Data acquisition and cleaning"
   ]
  },
  {
   "cell_type": "markdown",
   "metadata": {},
   "source": [
    "### 2.1. Data sources"
   ]
  },
  {
   "cell_type": "markdown",
   "metadata": {},
   "source": [
    "The following datasets are used in building and evaluating the prediction models.\n",
    "- https://www.kaggle.com/harlfoxem/housesalesprediction/downloads/housesalesprediction.zip contains house sale prices for King County, WA, which includes <br> Seattle. This dataset includes Zip Code, latitide and longutude for each sale. This list was used as a starting point dataset.\n",
    "- http://ciclt.net contains a table to convert Zip Codes into City/Town names and was web-scraped to improve naming convention.\n",
    "- Foursquare Places API was used to access the number of bars/restaurants, parks, schools, etc within a 5 km radius from a given house location. The number of <br> nearby venues was used as a proxy measure of the geographical location quality."
   ]
  },
  {
   "cell_type": "markdown",
   "metadata": {},
   "source": [
    "### 2.2. Data cleaning"
   ]
  },
  {
   "cell_type": "markdown",
   "metadata": {},
   "source": [
    "The www.kaggle.com data formed the initial housing prices data frame for this project as it is the largest dataset out of the listed above. All duplicate entries in the data <br>  frame were removed. There were some missing price values, therefore those rows were removed permanently. The City/Town names were added to a table by matching <br> the properties' Zip Codes. \n",
    "\n",
    "Using provided coordinates of each house sold, the number of nearby venues within a 5 km radius from the resort locations were added to the table using Foursquare <br> Places API. The list of venues consisted of shops, cafes, restaurants, bars, parks, bus/train stops, schools, hospitals and others. "
   ]
  },
  {
   "cell_type": "code",
   "execution_count": null,
   "metadata": {},
   "outputs": [],
   "source": []
  }
 ],
 "metadata": {
  "kernelspec": {
   "display_name": "Python 3.6",
   "language": "python",
   "name": "python3"
  },
  "language_info": {
   "codemirror_mode": {
    "name": "ipython",
    "version": 3
   },
   "file_extension": ".py",
   "mimetype": "text/x-python",
   "name": "python",
   "nbconvert_exporter": "python",
   "pygments_lexer": "ipython3",
   "version": "3.6.8"
  }
 },
 "nbformat": 4,
 "nbformat_minor": 1
}
![Correlation Matrix][corr_matrix]
